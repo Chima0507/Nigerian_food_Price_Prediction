{
 "cells": [
  {
   "cell_type": "markdown",
   "id": "b6a97027-1a44-487d-ae65-9bac27603ae0",
   "metadata": {
    "jp-MarkdownHeadingCollapsed": true
   },
   "source": [
    "Project BIG25 - Nigeria's Food Price Prediction Model"
   ]
  },
  {
   "cell_type": "code",
   "execution_count": 1,
   "id": "718ff485-9247-4e86-b072-ee8f3fec23b8",
   "metadata": {},
   "outputs": [
    {
     "name": "stdout",
     "output_type": "stream",
     "text": [
      "Requirement already satisfied: pandas in c:\\users\\namauser\\anaconda3\\lib\\site-packages (2.2.2)\n",
      "Requirement already satisfied: matplotlib in c:\\users\\namauser\\anaconda3\\lib\\site-packages (3.9.2)\n",
      "Collecting prophet\n",
      "  Downloading prophet-1.1.6-py3-none-win_amd64.whl.metadata (3.6 kB)\n",
      "Requirement already satisfied: openpyxl in c:\\users\\namauser\\anaconda3\\lib\\site-packages (3.1.5)\n",
      "Requirement already satisfied: numpy>=1.26.0 in c:\\users\\namauser\\anaconda3\\lib\\site-packages (from pandas) (1.26.4)\n",
      "Requirement already satisfied: python-dateutil>=2.8.2 in c:\\users\\namauser\\anaconda3\\lib\\site-packages (from pandas) (2.9.0.post0)\n",
      "Requirement already satisfied: pytz>=2020.1 in c:\\users\\namauser\\anaconda3\\lib\\site-packages (from pandas) (2024.1)\n",
      "Requirement already satisfied: tzdata>=2022.7 in c:\\users\\namauser\\anaconda3\\lib\\site-packages (from pandas) (2023.3)\n",
      "Requirement already satisfied: contourpy>=1.0.1 in c:\\users\\namauser\\anaconda3\\lib\\site-packages (from matplotlib) (1.2.0)\n",
      "Requirement already satisfied: cycler>=0.10 in c:\\users\\namauser\\anaconda3\\lib\\site-packages (from matplotlib) (0.11.0)\n",
      "Requirement already satisfied: fonttools>=4.22.0 in c:\\users\\namauser\\anaconda3\\lib\\site-packages (from matplotlib) (4.51.0)\n",
      "Requirement already satisfied: kiwisolver>=1.3.1 in c:\\users\\namauser\\anaconda3\\lib\\site-packages (from matplotlib) (1.4.4)\n",
      "Requirement already satisfied: packaging>=20.0 in c:\\users\\namauser\\anaconda3\\lib\\site-packages (from matplotlib) (24.1)\n",
      "Requirement already satisfied: pillow>=8 in c:\\users\\namauser\\anaconda3\\lib\\site-packages (from matplotlib) (10.4.0)\n",
      "Requirement already satisfied: pyparsing>=2.3.1 in c:\\users\\namauser\\anaconda3\\lib\\site-packages (from matplotlib) (3.1.2)\n",
      "Collecting cmdstanpy>=1.0.4 (from prophet)\n",
      "  Downloading cmdstanpy-1.2.5-py3-none-any.whl.metadata (4.0 kB)\n",
      "Collecting holidays<1,>=0.25 (from prophet)\n",
      "  Downloading holidays-0.69-py3-none-any.whl.metadata (28 kB)\n",
      "Requirement already satisfied: tqdm>=4.36.1 in c:\\users\\namauser\\anaconda3\\lib\\site-packages (from prophet) (4.66.5)\n",
      "Collecting importlib-resources (from prophet)\n",
      "  Downloading importlib_resources-6.5.2-py3-none-any.whl.metadata (3.9 kB)\n",
      "Requirement already satisfied: et-xmlfile in c:\\users\\namauser\\anaconda3\\lib\\site-packages (from openpyxl) (1.1.0)\n",
      "Collecting stanio<2.0.0,>=0.4.0 (from cmdstanpy>=1.0.4->prophet)\n",
      "  Downloading stanio-0.5.1-py3-none-any.whl.metadata (1.6 kB)\n",
      "Requirement already satisfied: six>=1.5 in c:\\users\\namauser\\anaconda3\\lib\\site-packages (from python-dateutil>=2.8.2->pandas) (1.16.0)\n",
      "Requirement already satisfied: colorama in c:\\users\\namauser\\anaconda3\\lib\\site-packages (from tqdm>=4.36.1->prophet) (0.4.6)\n",
      "Downloading prophet-1.1.6-py3-none-win_amd64.whl (13.3 MB)\n",
      "   ---------------------------------------- 0.0/13.3 MB ? eta -:--:--\n",
      "   ---------------------------------------- 0.0/13.3 MB ? eta -:--:--\n",
      "   ---------------------------------------- 0.0/13.3 MB ? eta -:--:--\n",
      "   ---------------------------------------- 0.0/13.3 MB ? eta -:--:--\n",
      "   ---------------------------------------- 0.0/13.3 MB ? eta -:--:--\n",
      "   - -------------------------------------- 0.5/13.3 MB 1.5 MB/s eta 0:00:09\n",
      "   -- ------------------------------------- 0.8/13.3 MB 1.5 MB/s eta 0:00:09\n",
      "   --- ------------------------------------ 1.0/13.3 MB 1.8 MB/s eta 0:00:07\n",
      "   ----- ---------------------------------- 1.8/13.3 MB 1.9 MB/s eta 0:00:06\n",
      "   ------ --------------------------------- 2.1/13.3 MB 2.0 MB/s eta 0:00:06\n",
      "   -------- ------------------------------- 2.9/13.3 MB 2.5 MB/s eta 0:00:05\n",
      "   -------- ------------------------------- 2.9/13.3 MB 2.5 MB/s eta 0:00:05\n",
      "   ------------ --------------------------- 4.2/13.3 MB 2.5 MB/s eta 0:00:04\n",
      "   -------------- ------------------------- 4.7/13.3 MB 2.4 MB/s eta 0:00:04\n",
      "   -------------- ------------------------- 5.0/13.3 MB 2.5 MB/s eta 0:00:04\n",
      "   ------------------ --------------------- 6.0/13.3 MB 2.5 MB/s eta 0:00:03\n",
      "   --------------------- ------------------ 7.1/13.3 MB 2.7 MB/s eta 0:00:03\n",
      "   ------------------------ --------------- 8.1/13.3 MB 2.9 MB/s eta 0:00:02\n",
      "   ------------------------- -------------- 8.7/13.3 MB 3.0 MB/s eta 0:00:02\n",
      "   ------------------------- -------------- 8.7/13.3 MB 3.0 MB/s eta 0:00:02\n",
      "   -------------------------------- ------- 10.7/13.3 MB 3.3 MB/s eta 0:00:01\n",
      "   --------------------------------- ------ 11.0/13.3 MB 3.2 MB/s eta 0:00:01\n",
      "   ---------------------------------- ----- 11.5/13.3 MB 3.0 MB/s eta 0:00:01\n",
      "   ------------------------------------- -- 12.6/13.3 MB 3.2 MB/s eta 0:00:01\n",
      "   ---------------------------------------  13.1/13.3 MB 3.2 MB/s eta 0:00:01\n",
      "   ---------------------------------------- 13.3/13.3 MB 3.1 MB/s eta 0:00:00\n",
      "Downloading cmdstanpy-1.2.5-py3-none-any.whl (94 kB)\n",
      "Downloading holidays-0.69-py3-none-any.whl (863 kB)\n",
      "   ---------------------------------------- 0.0/863.9 kB ? eta -:--:--\n",
      "   ---------------------------------------- 0.0/863.9 kB ? eta -:--:--\n",
      "   ------------ --------------------------- 262.1/863.9 kB ? eta -:--:--\n",
      "   ---------------------------------------- 863.9/863.9 kB 3.9 MB/s eta 0:00:00\n",
      "Downloading importlib_resources-6.5.2-py3-none-any.whl (37 kB)\n",
      "Downloading stanio-0.5.1-py3-none-any.whl (8.1 kB)\n",
      "Installing collected packages: stanio, importlib-resources, holidays, cmdstanpy, prophet\n",
      "Successfully installed cmdstanpy-1.2.5 holidays-0.69 importlib-resources-6.5.2 prophet-1.1.6 stanio-0.5.1\n",
      "Note: you may need to restart the kernel to use updated packages.\n"
     ]
    }
   ],
   "source": [
    "#Installing Prophet openpyxl\n",
    "pip install pandas matplotlib prophet openpyxl"
   ]
  },
  {
   "cell_type": "code",
   "execution_count": 24,
   "id": "dcca763a-9602-4072-bd36-6254a2f5e98a",
   "metadata": {},
   "outputs": [
    {
     "name": "stdout",
     "output_type": "stream",
     "text": [
      "Requirement already satisfied: prophet in c:\\users\\namauser\\anaconda3\\lib\\site-packages (1.1.6)\n",
      "Requirement already satisfied: cmdstanpy>=1.0.4 in c:\\users\\namauser\\anaconda3\\lib\\site-packages (from prophet) (1.2.5)\n",
      "Requirement already satisfied: numpy>=1.15.4 in c:\\users\\namauser\\anaconda3\\lib\\site-packages (from prophet) (1.26.4)\n",
      "Requirement already satisfied: matplotlib>=2.0.0 in c:\\users\\namauser\\anaconda3\\lib\\site-packages (from prophet) (3.9.2)\n",
      "Requirement already satisfied: pandas>=1.0.4 in c:\\users\\namauser\\anaconda3\\lib\\site-packages (from prophet) (2.2.2)\n",
      "Requirement already satisfied: holidays<1,>=0.25 in c:\\users\\namauser\\anaconda3\\lib\\site-packages (from prophet) (0.69)\n",
      "Requirement already satisfied: tqdm>=4.36.1 in c:\\users\\namauser\\anaconda3\\lib\\site-packages (from prophet) (4.66.5)\n",
      "Requirement already satisfied: importlib-resources in c:\\users\\namauser\\anaconda3\\lib\\site-packages (from prophet) (6.5.2)\n",
      "Requirement already satisfied: stanio<2.0.0,>=0.4.0 in c:\\users\\namauser\\anaconda3\\lib\\site-packages (from cmdstanpy>=1.0.4->prophet) (0.5.1)\n",
      "Requirement already satisfied: python-dateutil in c:\\users\\namauser\\anaconda3\\lib\\site-packages (from holidays<1,>=0.25->prophet) (2.9.0.post0)\n",
      "Requirement already satisfied: contourpy>=1.0.1 in c:\\users\\namauser\\anaconda3\\lib\\site-packages (from matplotlib>=2.0.0->prophet) (1.2.0)\n",
      "Requirement already satisfied: cycler>=0.10 in c:\\users\\namauser\\anaconda3\\lib\\site-packages (from matplotlib>=2.0.0->prophet) (0.11.0)\n",
      "Requirement already satisfied: fonttools>=4.22.0 in c:\\users\\namauser\\anaconda3\\lib\\site-packages (from matplotlib>=2.0.0->prophet) (4.51.0)\n",
      "Requirement already satisfied: kiwisolver>=1.3.1 in c:\\users\\namauser\\anaconda3\\lib\\site-packages (from matplotlib>=2.0.0->prophet) (1.4.4)\n",
      "Requirement already satisfied: packaging>=20.0 in c:\\users\\namauser\\anaconda3\\lib\\site-packages (from matplotlib>=2.0.0->prophet) (24.1)\n",
      "Requirement already satisfied: pillow>=8 in c:\\users\\namauser\\anaconda3\\lib\\site-packages (from matplotlib>=2.0.0->prophet) (10.4.0)\n",
      "Requirement already satisfied: pyparsing>=2.3.1 in c:\\users\\namauser\\anaconda3\\lib\\site-packages (from matplotlib>=2.0.0->prophet) (3.1.2)\n",
      "Requirement already satisfied: pytz>=2020.1 in c:\\users\\namauser\\anaconda3\\lib\\site-packages (from pandas>=1.0.4->prophet) (2024.1)\n",
      "Requirement already satisfied: tzdata>=2022.7 in c:\\users\\namauser\\anaconda3\\lib\\site-packages (from pandas>=1.0.4->prophet) (2023.3)\n",
      "Requirement already satisfied: colorama in c:\\users\\namauser\\anaconda3\\lib\\site-packages (from tqdm>=4.36.1->prophet) (0.4.6)\n",
      "Requirement already satisfied: six>=1.5 in c:\\users\\namauser\\anaconda3\\lib\\site-packages (from python-dateutil->holidays<1,>=0.25->prophet) (1.16.0)\n",
      "Note: you may need to restart the kernel to use updated packages.\n"
     ]
    }
   ],
   "source": [
    "pip install prophet"
   ]
  },
  {
   "cell_type": "code",
   "execution_count": 1,
   "id": "126b3f4c-79bc-46d7-900a-a621b79039bb",
   "metadata": {},
   "outputs": [],
   "source": [
    "# Importing pandas\n",
    "import pandas as pd"
   ]
  },
  {
   "cell_type": "code",
   "execution_count": null,
   "id": "001819c9-8c56-45c8-9567-33b426cee7a8",
   "metadata": {},
   "outputs": [],
   "source": [
    "# Reading csv file\n",
    "df = pd.read_csv(r\"C:\\Users\\namauser\\OneDrive\\Desktop\\Project_BIG_25\\Food Price Prediction\\Modified\\ALL_MONTHS_DATA.csv\")"
   ]
  },
  {
   "cell_type": "code",
   "execution_count": 3,
   "id": "d15b6d9e-a2b5-4e04-88c7-079d271bad29",
   "metadata": {},
   "outputs": [
    {
     "data": {
      "text/html": [
       "<div>\n",
       "<style scoped>\n",
       "    .dataframe tbody tr th:only-of-type {\n",
       "        vertical-align: middle;\n",
       "    }\n",
       "\n",
       "    .dataframe tbody tr th {\n",
       "        vertical-align: top;\n",
       "    }\n",
       "\n",
       "    .dataframe thead th {\n",
       "        text-align: right;\n",
       "    }\n",
       "</style>\n",
       "<table border=\"1\" class=\"dataframe\">\n",
       "  <thead>\n",
       "    <tr style=\"text-align: right;\">\n",
       "      <th></th>\n",
       "      <th>Date</th>\n",
       "      <th>Item_label</th>\n",
       "      <th>Region</th>\n",
       "      <th>Price</th>\n",
       "      <th>Unnamed: 4</th>\n",
       "      <th>Unnamed: 5</th>\n",
       "      <th>Unnamed: 6</th>\n",
       "      <th>Unnamed: 7</th>\n",
       "    </tr>\n",
       "  </thead>\n",
       "  <tbody>\n",
       "    <tr>\n",
       "      <th>0</th>\n",
       "      <td>01/02/2024</td>\n",
       "      <td>Agric eggs medium size</td>\n",
       "      <td>NORTH CENTRAL</td>\n",
       "      <td>1677.828635</td>\n",
       "      <td>NaN</td>\n",
       "      <td>NaN</td>\n",
       "      <td>NaN</td>\n",
       "      <td>NaN</td>\n",
       "    </tr>\n",
       "    <tr>\n",
       "      <th>1</th>\n",
       "      <td>01/02/2024</td>\n",
       "      <td>Agric eggs medium size</td>\n",
       "      <td>NORTH EAST</td>\n",
       "      <td>1415.044171</td>\n",
       "      <td>NaN</td>\n",
       "      <td>NaN</td>\n",
       "      <td>NaN</td>\n",
       "      <td>NaN</td>\n",
       "    </tr>\n",
       "    <tr>\n",
       "      <th>2</th>\n",
       "      <td>01/02/2024</td>\n",
       "      <td>Agric eggs medium size</td>\n",
       "      <td>NORTH WEST</td>\n",
       "      <td>1428.630102</td>\n",
       "      <td>NaN</td>\n",
       "      <td>NaN</td>\n",
       "      <td>NaN</td>\n",
       "      <td>NaN</td>\n",
       "    </tr>\n",
       "    <tr>\n",
       "      <th>3</th>\n",
       "      <td>01/02/2024</td>\n",
       "      <td>Agric eggs medium size</td>\n",
       "      <td>SOUTH EAST</td>\n",
       "      <td>1511.728989</td>\n",
       "      <td>NaN</td>\n",
       "      <td>NaN</td>\n",
       "      <td>NaN</td>\n",
       "      <td>NaN</td>\n",
       "    </tr>\n",
       "    <tr>\n",
       "      <th>4</th>\n",
       "      <td>01/02/2024</td>\n",
       "      <td>Agric eggs medium size</td>\n",
       "      <td>SOUTH SOUTH</td>\n",
       "      <td>1423.055556</td>\n",
       "      <td>NaN</td>\n",
       "      <td>NaN</td>\n",
       "      <td>NaN</td>\n",
       "      <td>NaN</td>\n",
       "    </tr>\n",
       "  </tbody>\n",
       "</table>\n",
       "</div>"
      ],
      "text/plain": [
       "         Date              Item_label         Region        Price  Unnamed: 4  \\\n",
       "0  01/02/2024  Agric eggs medium size  NORTH CENTRAL  1677.828635         NaN   \n",
       "1  01/02/2024  Agric eggs medium size     NORTH EAST  1415.044171         NaN   \n",
       "2  01/02/2024  Agric eggs medium size     NORTH WEST  1428.630102         NaN   \n",
       "3  01/02/2024  Agric eggs medium size     SOUTH EAST  1511.728989         NaN   \n",
       "4  01/02/2024  Agric eggs medium size    SOUTH SOUTH  1423.055556         NaN   \n",
       "\n",
       "   Unnamed: 5  Unnamed: 6  Unnamed: 7  \n",
       "0         NaN         NaN         NaN  \n",
       "1         NaN         NaN         NaN  \n",
       "2         NaN         NaN         NaN  \n",
       "3         NaN         NaN         NaN  \n",
       "4         NaN         NaN         NaN  "
      ]
     },
     "execution_count": 3,
     "metadata": {},
     "output_type": "execute_result"
    }
   ],
   "source": [
    "# Viewing top 5 rows\n",
    "df.head()"
   ]
  },
  {
   "cell_type": "code",
   "execution_count": 4,
   "id": "78946b7b-ee64-4b2d-8b88-cc08cafa881a",
   "metadata": {},
   "outputs": [],
   "source": [
    "# Dropping unnamed columns\n",
    "df.drop(['Unnamed: 4', 'Unnamed: 5', 'Unnamed: 6', 'Unnamed: 7'], axis=1, inplace=True)"
   ]
  },
  {
   "cell_type": "code",
   "execution_count": 5,
   "id": "8352277c-4828-48be-8d9d-bb92486f9007",
   "metadata": {
    "scrolled": true
   },
   "outputs": [
    {
     "data": {
      "text/html": [
       "<div>\n",
       "<style scoped>\n",
       "    .dataframe tbody tr th:only-of-type {\n",
       "        vertical-align: middle;\n",
       "    }\n",
       "\n",
       "    .dataframe tbody tr th {\n",
       "        vertical-align: top;\n",
       "    }\n",
       "\n",
       "    .dataframe thead th {\n",
       "        text-align: right;\n",
       "    }\n",
       "</style>\n",
       "<table border=\"1\" class=\"dataframe\">\n",
       "  <thead>\n",
       "    <tr style=\"text-align: right;\">\n",
       "      <th></th>\n",
       "      <th>Date</th>\n",
       "      <th>Item_label</th>\n",
       "      <th>Region</th>\n",
       "      <th>Price</th>\n",
       "    </tr>\n",
       "  </thead>\n",
       "  <tbody>\n",
       "    <tr>\n",
       "      <th>0</th>\n",
       "      <td>01/02/2024</td>\n",
       "      <td>Agric eggs medium size</td>\n",
       "      <td>NORTH CENTRAL</td>\n",
       "      <td>1677.828635</td>\n",
       "    </tr>\n",
       "    <tr>\n",
       "      <th>1</th>\n",
       "      <td>01/02/2024</td>\n",
       "      <td>Agric eggs medium size</td>\n",
       "      <td>NORTH EAST</td>\n",
       "      <td>1415.044171</td>\n",
       "    </tr>\n",
       "    <tr>\n",
       "      <th>2</th>\n",
       "      <td>01/02/2024</td>\n",
       "      <td>Agric eggs medium size</td>\n",
       "      <td>NORTH WEST</td>\n",
       "      <td>1428.630102</td>\n",
       "    </tr>\n",
       "    <tr>\n",
       "      <th>3</th>\n",
       "      <td>01/02/2024</td>\n",
       "      <td>Agric eggs medium size</td>\n",
       "      <td>SOUTH EAST</td>\n",
       "      <td>1511.728989</td>\n",
       "    </tr>\n",
       "    <tr>\n",
       "      <th>4</th>\n",
       "      <td>01/02/2024</td>\n",
       "      <td>Agric eggs medium size</td>\n",
       "      <td>SOUTH SOUTH</td>\n",
       "      <td>1423.055556</td>\n",
       "    </tr>\n",
       "  </tbody>\n",
       "</table>\n",
       "</div>"
      ],
      "text/plain": [
       "         Date              Item_label         Region        Price\n",
       "0  01/02/2024  Agric eggs medium size  NORTH CENTRAL  1677.828635\n",
       "1  01/02/2024  Agric eggs medium size     NORTH EAST  1415.044171\n",
       "2  01/02/2024  Agric eggs medium size     NORTH WEST  1428.630102\n",
       "3  01/02/2024  Agric eggs medium size     SOUTH EAST  1511.728989\n",
       "4  01/02/2024  Agric eggs medium size    SOUTH SOUTH  1423.055556"
      ]
     },
     "execution_count": 5,
     "metadata": {},
     "output_type": "execute_result"
    }
   ],
   "source": [
    "df.head()"
   ]
  },
  {
   "cell_type": "markdown",
   "id": "a52df047-225d-4bbf-a970-fcb974149356",
   "metadata": {},
   "source": [
    "#### FILTERING FOR PRICE OF RICE IN SOUTH EAST "
   ]
  },
  {
   "cell_type": "code",
   "execution_count": 16,
   "id": "a81a9f8c-c89c-4b30-83a7-401cd332f87d",
   "metadata": {},
   "outputs": [],
   "source": [
    "# Filter for one item and region \n",
    "rice_se = df[(df['Item_label'].str.contains('Rice', case=True, na=False)) & (df['Region'] == 'SOUTH EAST')]"
   ]
  },
  {
   "cell_type": "code",
   "execution_count": 17,
   "id": "cf254f48-52f4-44fe-9587-d7365133021f",
   "metadata": {},
   "outputs": [
    {
     "data": {
      "text/html": [
       "<div>\n",
       "<style scoped>\n",
       "    .dataframe tbody tr th:only-of-type {\n",
       "        vertical-align: middle;\n",
       "    }\n",
       "\n",
       "    .dataframe tbody tr th {\n",
       "        vertical-align: top;\n",
       "    }\n",
       "\n",
       "    .dataframe thead th {\n",
       "        text-align: right;\n",
       "    }\n",
       "</style>\n",
       "<table border=\"1\" class=\"dataframe\">\n",
       "  <thead>\n",
       "    <tr style=\"text-align: right;\">\n",
       "      <th></th>\n",
       "      <th>Date</th>\n",
       "      <th>Item_label</th>\n",
       "      <th>Region</th>\n",
       "      <th>Price</th>\n",
       "    </tr>\n",
       "  </thead>\n",
       "  <tbody>\n",
       "    <tr>\n",
       "      <th>51</th>\n",
       "      <td>01/02/2024</td>\n",
       "      <td>Broken Rice (Ofada)</td>\n",
       "      <td>SOUTH EAST</td>\n",
       "      <td>1318.760396</td>\n",
       "    </tr>\n",
       "    <tr>\n",
       "      <th>195</th>\n",
       "      <td>01/02/2024</td>\n",
       "      <td>Rice agric sold loose</td>\n",
       "      <td>SOUTH EAST</td>\n",
       "      <td>1352.176023</td>\n",
       "    </tr>\n",
       "    <tr>\n",
       "      <th>201</th>\n",
       "      <td>01/02/2024</td>\n",
       "      <td>Rice local sold loose</td>\n",
       "      <td>SOUTH EAST</td>\n",
       "      <td>1277.362081</td>\n",
       "    </tr>\n",
       "    <tr>\n",
       "      <th>207</th>\n",
       "      <td>01/02/2024</td>\n",
       "      <td>Rice Medium Grained</td>\n",
       "      <td>SOUTH EAST</td>\n",
       "      <td>1350.119246</td>\n",
       "    </tr>\n",
       "    <tr>\n",
       "      <th>213</th>\n",
       "      <td>01/02/2024</td>\n",
       "      <td>Rice,imported high quality sold loose</td>\n",
       "      <td>SOUTH EAST</td>\n",
       "      <td>1648.610523</td>\n",
       "    </tr>\n",
       "  </tbody>\n",
       "</table>\n",
       "</div>"
      ],
      "text/plain": [
       "           Date                             Item_label      Region  \\\n",
       "51   01/02/2024                    Broken Rice (Ofada)  SOUTH EAST   \n",
       "195  01/02/2024                  Rice agric sold loose  SOUTH EAST   \n",
       "201  01/02/2024                  Rice local sold loose  SOUTH EAST   \n",
       "207  01/02/2024                    Rice Medium Grained  SOUTH EAST   \n",
       "213  01/02/2024  Rice,imported high quality sold loose  SOUTH EAST   \n",
       "\n",
       "           Price  \n",
       "51   1318.760396  \n",
       "195  1352.176023  \n",
       "201  1277.362081  \n",
       "207  1350.119246  \n",
       "213  1648.610523  "
      ]
     },
     "execution_count": 17,
     "metadata": {},
     "output_type": "execute_result"
    }
   ],
   "source": [
    "rice_se.head()"
   ]
  },
  {
   "cell_type": "markdown",
   "id": "bc3f6c25-1838-4540-ab52-da7e575cdb38",
   "metadata": {},
   "source": [
    "*The type of rice being used in our prediction includes Ofada rice, agric rice, local rice, medium-grained rice, and imported high-quality rice*"
   ]
  },
  {
   "cell_type": "code",
   "execution_count": 18,
   "id": "00e1501a-9d51-4b3f-b887-e4d443a69c73",
   "metadata": {},
   "outputs": [],
   "source": [
    "# Extraction of important columns for Prophet\n",
    "forecast_df = rice_se[['Date', 'Price']].copy()\n",
    "#Renaming columns\n",
    "forecast_df.rename(columns={'Date': 'ds', 'Price': 'y'}, inplace=True)"
   ]
  },
  {
   "cell_type": "code",
   "execution_count": 19,
   "id": "0cc85650-61c9-4f6b-8199-4d8bce851a0f",
   "metadata": {},
   "outputs": [
    {
     "data": {
      "text/html": [
       "<div>\n",
       "<style scoped>\n",
       "    .dataframe tbody tr th:only-of-type {\n",
       "        vertical-align: middle;\n",
       "    }\n",
       "\n",
       "    .dataframe tbody tr th {\n",
       "        vertical-align: top;\n",
       "    }\n",
       "\n",
       "    .dataframe thead th {\n",
       "        text-align: right;\n",
       "    }\n",
       "</style>\n",
       "<table border=\"1\" class=\"dataframe\">\n",
       "  <thead>\n",
       "    <tr style=\"text-align: right;\">\n",
       "      <th></th>\n",
       "      <th>ds</th>\n",
       "      <th>y</th>\n",
       "    </tr>\n",
       "  </thead>\n",
       "  <tbody>\n",
       "    <tr>\n",
       "      <th>51</th>\n",
       "      <td>01/02/2024</td>\n",
       "      <td>1318.760396</td>\n",
       "    </tr>\n",
       "    <tr>\n",
       "      <th>195</th>\n",
       "      <td>01/02/2024</td>\n",
       "      <td>1352.176023</td>\n",
       "    </tr>\n",
       "    <tr>\n",
       "      <th>201</th>\n",
       "      <td>01/02/2024</td>\n",
       "      <td>1277.362081</td>\n",
       "    </tr>\n",
       "    <tr>\n",
       "      <th>207</th>\n",
       "      <td>01/02/2024</td>\n",
       "      <td>1350.119246</td>\n",
       "    </tr>\n",
       "    <tr>\n",
       "      <th>213</th>\n",
       "      <td>01/02/2024</td>\n",
       "      <td>1648.610523</td>\n",
       "    </tr>\n",
       "  </tbody>\n",
       "</table>\n",
       "</div>"
      ],
      "text/plain": [
       "             ds            y\n",
       "51   01/02/2024  1318.760396\n",
       "195  01/02/2024  1352.176023\n",
       "201  01/02/2024  1277.362081\n",
       "207  01/02/2024  1350.119246\n",
       "213  01/02/2024  1648.610523"
      ]
     },
     "execution_count": 19,
     "metadata": {},
     "output_type": "execute_result"
    }
   ],
   "source": [
    "forecast_df.head()"
   ]
  },
  {
   "cell_type": "markdown",
   "id": "115787f6-e558-418a-9bb8-69ee811e4e13",
   "metadata": {},
   "source": [
    "#### TRAINING THE MODEL"
   ]
  },
  {
   "cell_type": "code",
   "execution_count": 20,
   "id": "7c4423bd-0f5e-4ac8-8a03-668bfde109b3",
   "metadata": {},
   "outputs": [
    {
     "name": "stderr",
     "output_type": "stream",
     "text": [
      "14:58:29 - cmdstanpy - INFO - Chain [1] start processing\n",
      "14:58:30 - cmdstanpy - INFO - Chain [1] done processing\n"
     ]
    },
    {
     "data": {
      "text/plain": [
       "<prophet.forecaster.Prophet at 0x25b074dce60>"
      ]
     },
     "execution_count": 20,
     "metadata": {},
     "output_type": "execute_result"
    }
   ],
   "source": [
    "# Importing Prophet\n",
    "from prophet import Prophet\n",
    "# Initialize the model\n",
    "model = Prophet()\n",
    "# Fit the model to your data\n",
    "model.fit(forecast_df)"
   ]
  },
  {
   "cell_type": "code",
   "execution_count": 21,
   "id": "725d46e3-cf8f-44d7-86ca-b1a00dd06a45",
   "metadata": {},
   "outputs": [
    {
     "data": {
      "text/plain": [
       "(45, 2)"
      ]
     },
     "execution_count": 21,
     "metadata": {},
     "output_type": "execute_result"
    }
   ],
   "source": [
    "forecast_df.shape"
   ]
  },
  {
   "cell_type": "code",
   "execution_count": 22,
   "id": "8eb1b7e9-9c4a-41cb-bf07-97db3148e3b9",
   "metadata": {},
   "outputs": [
    {
     "data": {
      "text/html": [
       "<div>\n",
       "<style scoped>\n",
       "    .dataframe tbody tr th:only-of-type {\n",
       "        vertical-align: middle;\n",
       "    }\n",
       "\n",
       "    .dataframe tbody tr th {\n",
       "        vertical-align: top;\n",
       "    }\n",
       "\n",
       "    .dataframe thead th {\n",
       "        text-align: right;\n",
       "    }\n",
       "</style>\n",
       "<table border=\"1\" class=\"dataframe\">\n",
       "  <thead>\n",
       "    <tr style=\"text-align: right;\">\n",
       "      <th></th>\n",
       "      <th>ds</th>\n",
       "      <th>y</th>\n",
       "    </tr>\n",
       "  </thead>\n",
       "  <tbody>\n",
       "    <tr>\n",
       "      <th>51</th>\n",
       "      <td>01/02/2024</td>\n",
       "      <td>1318.760396</td>\n",
       "    </tr>\n",
       "    <tr>\n",
       "      <th>195</th>\n",
       "      <td>01/02/2024</td>\n",
       "      <td>1352.176023</td>\n",
       "    </tr>\n",
       "    <tr>\n",
       "      <th>201</th>\n",
       "      <td>01/02/2024</td>\n",
       "      <td>1277.362081</td>\n",
       "    </tr>\n",
       "    <tr>\n",
       "      <th>207</th>\n",
       "      <td>01/02/2024</td>\n",
       "      <td>1350.119246</td>\n",
       "    </tr>\n",
       "    <tr>\n",
       "      <th>213</th>\n",
       "      <td>01/02/2024</td>\n",
       "      <td>1648.610523</td>\n",
       "    </tr>\n",
       "  </tbody>\n",
       "</table>\n",
       "</div>"
      ],
      "text/plain": [
       "             ds            y\n",
       "51   01/02/2024  1318.760396\n",
       "195  01/02/2024  1352.176023\n",
       "201  01/02/2024  1277.362081\n",
       "207  01/02/2024  1350.119246\n",
       "213  01/02/2024  1648.610523"
      ]
     },
     "execution_count": 22,
     "metadata": {},
     "output_type": "execute_result"
    }
   ],
   "source": [
    "forecast_df.head()"
   ]
  },
  {
   "cell_type": "markdown",
   "id": "880566e8-6fc3-4430-9a25-a1cf4c515b10",
   "metadata": {},
   "source": [
    "#### CREATING FUTURE DATES TO FORECAST"
   ]
  },
  {
   "cell_type": "code",
   "execution_count": 28,
   "id": "ab4c28be-a839-4ee8-be87-ec08d6d23458",
   "metadata": {
    "scrolled": true
   },
   "outputs": [
    {
     "data": {
      "text/html": [
       "<div>\n",
       "<style scoped>\n",
       "    .dataframe tbody tr th:only-of-type {\n",
       "        vertical-align: middle;\n",
       "    }\n",
       "\n",
       "    .dataframe tbody tr th {\n",
       "        vertical-align: top;\n",
       "    }\n",
       "\n",
       "    .dataframe thead th {\n",
       "        text-align: right;\n",
       "    }\n",
       "</style>\n",
       "<table border=\"1\" class=\"dataframe\">\n",
       "  <thead>\n",
       "    <tr style=\"text-align: right;\">\n",
       "      <th></th>\n",
       "      <th>ds</th>\n",
       "      <th>yhat</th>\n",
       "      <th>yhat_lower</th>\n",
       "      <th>yhat_upper</th>\n",
       "    </tr>\n",
       "  </thead>\n",
       "  <tbody>\n",
       "    <tr>\n",
       "      <th>9</th>\n",
       "      <td>2024-01-31</td>\n",
       "      <td>4912.509960</td>\n",
       "      <td>4594.685555</td>\n",
       "      <td>5201.509332</td>\n",
       "    </tr>\n",
       "    <tr>\n",
       "      <th>10</th>\n",
       "      <td>2024-02-29</td>\n",
       "      <td>8587.786315</td>\n",
       "      <td>8274.865135</td>\n",
       "      <td>8897.894981</td>\n",
       "    </tr>\n",
       "    <tr>\n",
       "      <th>11</th>\n",
       "      <td>2024-03-31</td>\n",
       "      <td>12516.530004</td>\n",
       "      <td>12217.005178</td>\n",
       "      <td>12800.093922</td>\n",
       "    </tr>\n",
       "    <tr>\n",
       "      <th>12</th>\n",
       "      <td>2024-04-30</td>\n",
       "      <td>16318.540025</td>\n",
       "      <td>16025.041482</td>\n",
       "      <td>16614.581346</td>\n",
       "    </tr>\n",
       "    <tr>\n",
       "      <th>13</th>\n",
       "      <td>2024-05-31</td>\n",
       "      <td>20247.283714</td>\n",
       "      <td>19942.907502</td>\n",
       "      <td>20549.218497</td>\n",
       "    </tr>\n",
       "    <tr>\n",
       "      <th>14</th>\n",
       "      <td>2024-06-30</td>\n",
       "      <td>24049.293736</td>\n",
       "      <td>23758.309216</td>\n",
       "      <td>24372.641294</td>\n",
       "    </tr>\n",
       "  </tbody>\n",
       "</table>\n",
       "</div>"
      ],
      "text/plain": [
       "           ds          yhat    yhat_lower    yhat_upper\n",
       "9  2024-01-31   4912.509960   4594.685555   5201.509332\n",
       "10 2024-02-29   8587.786315   8274.865135   8897.894981\n",
       "11 2024-03-31  12516.530004  12217.005178  12800.093922\n",
       "12 2024-04-30  16318.540025  16025.041482  16614.581346\n",
       "13 2024-05-31  20247.283714  19942.907502  20549.218497\n",
       "14 2024-06-30  24049.293736  23758.309216  24372.641294"
      ]
     },
     "execution_count": 28,
     "metadata": {},
     "output_type": "execute_result"
    }
   ],
   "source": [
    "# Setting up future dataframe\n",
    "future = model.make_future_dataframe(periods=6, freq='ME') # ME --> Month End (Updated)\n",
    "# forecasting\n",
    "forecast = model.predict(future)\n",
    "# viewing key results\n",
    "forecast[['ds', 'yhat', 'yhat_lower', 'yhat_upper']].tail(6)"
   ]
  },
  {
   "cell_type": "markdown",
   "id": "b220a66f-da5c-47a5-b43d-7ea573c0dacc",
   "metadata": {},
   "source": [
    "**Note:** Prophet seems to be outputting the wrong year. As the predicted years should be in 2025 and not 2024 (since the latest data is from Dec 2024). The predicted values however seem reasonable and thus only the years should be interpreted differently (as 2025 and not 2024)."
   ]
  },
  {
   "cell_type": "markdown",
   "id": "7c534ce3-7cc1-412b-8ab4-e6848066b4f1",
   "metadata": {},
   "source": [
    "#### Visualization"
   ]
  },
  {
   "cell_type": "code",
   "execution_count": 24,
   "id": "746e09b2-ae58-4a8e-9f6e-aaadbbab1c24",
   "metadata": {},
   "outputs": [],
   "source": [
    "import matplotlib.pyplot as plt"
   ]
  },
  {
   "cell_type": "code",
   "execution_count": 27,
   "id": "54801292-c79a-4667-8359-1386878e760d",
   "metadata": {
    "scrolled": true
   },
   "outputs": [
    {
     "data": {
      "image/png": "[encoded data removed]",
      "text/plain": [
       "<Figure size 1000x600 with 1 Axes>"
      ]
     },
     "metadata": {},
     "output_type": "display_data"
    }
   ],
   "source": [
    "model.plot(forecast)\n",
    "plt.title(\"Forecasted Price of Rice in South East\")\n",
    "plt.xlabel(\"Date\")\n",
    "plt.ylabel(\"Price\")\n",
    "plt.show()"
   ]
  },
  {
   "cell_type": "code",
   "execution_count": null,
   "id": "9a34c2d5-9fc5-4e8e-92ef-584ed57543cf",
   "metadata": {},
   "outputs": [],
   "source": [
    "forecast[['ds', 'yhat', 'yhat_lower', 'yhat_upper']].to_excel(\"rice_forecast_southeast.xlsx\", index=False)\n"
   ]
  },
  {
   "cell_type": "code",
   "execution_count": 35,
   "id": "4cc34f9d-495b-4453-adc7-f242600a2f87",
   "metadata": {},
   "outputs": [],
   "source": []
  }
 ],
 "metadata": {
  "kernelspec": {
   "display_name": "Python [conda env:base] *",
   "language": "python",
   "name": "conda-base-py"
  },
  "language_info": {
   "codemirror_mode": {
    "name": "ipython",
    "version": 3
   },
   "file_extension": ".py",
   "mimetype": "text/x-python",
   "name": "python",
   "nbconvert_exporter": "python",
   "pygments_lexer": "ipython3",
   "version": "3.12.7"
  }
 },
 "nbformat": 4,
 "nbformat_minor": 5
}
